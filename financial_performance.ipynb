{
 "cells": [
  {
   "cell_type": "code",
   "execution_count": 2,
   "metadata": {},
   "outputs": [],
   "source": [
    "from urllib.request import urlopen\n",
    "import json\n",
    "import pandas as pd\n",
    "import datetime as dt"
   ]
  },
  {
   "cell_type": "code",
   "execution_count": 3,
   "metadata": {},
   "outputs": [],
   "source": [
    "def get_fmp_jsondata(url):\n",
    "    response = urlopen(url)\n",
    "    data = response.read().decode(\"utf-8\")\n",
    "    return json.loads(data)"
   ]
  },
  {
   "cell_type": "code",
   "execution_count": 4,
   "metadata": {},
   "outputs": [],
   "source": [
    "def financial_records(ticker):\n",
    "    income_statement_url = \"https://financialmodelingprep.com/api/v3/financials/income-statement/\" + ticker\n",
    "    balance_sheet_url = \"https://financialmodelingprep.com/api/v3/financials/balance-sheet-statement/\" + ticker\n",
    "    cash_flow_url = \"https://financialmodelingprep.com/api/v3/financials/cash-flow-statement/\" + ticker\n",
    "    enterprise_values_url = \"https://financialmodelingprep.com/api/v3/enterprise-value/\" + ticker\n",
    "    price_url = \"https://financialmodelingprep.com/api/v3/stock/real-time-price/\" + ticker\n",
    "    \n",
    "    try: \n",
    "        income_statement = get_fmp_jsondata(income_statement_url)\n",
    "        balance_sheet = get_fmp_jsondata(balance_sheet_url)\n",
    "        statement_of_cash_flows = get_fmp_jsondata(cash_flow_url)\n",
    "        enterprise_values = get_fmp_jsondata(enterprise_values_url)\n",
    "        price = get_fmp_jsondata(price_url)\n",
    "    except:\n",
    "        print(\"Could not query for\" + ticker + \"on Financial Modeling Prep's API.\")\n",
    "    \n",
    "    try:\n",
    "        income_statement = pd.DataFrame(income_statement['financials']).transpose()\n",
    "        balance_sheet = pd.DataFrame(balance_sheet['financials']).transpose()\n",
    "        statement_of_cash_flows = pd.DataFrame(statement_of_cash_flows['financials']).transpose()\n",
    "        enterprise_values = pd.DataFrame(enterprise_values['enterpriseValues']).transpose()\n",
    "    except:\n",
    "        print(\"Unable to process \" + ticker + \".\")\n",
    "        \n",
    "    try: \n",
    "        price = price['price']\n",
    "    except: \n",
    "        print(\"Could not process price for \" + ticker + \".\")\n",
    "        price = float('NaN')\n",
    "    \n",
    "    return income_statement, balance_sheet, statement_of_cash_flows, enterprise_values, price"
   ]
  },
  {
   "cell_type": "code",
   "execution_count": 80,
   "metadata": {},
   "outputs": [],
   "source": [
    "income_statement, balance_sheet, statement_of_cash_flows, enterprise_values, price = financial_records(\"AAPL\")"
   ]
  },
  {
   "cell_type": "code",
   "execution_count": 55,
   "metadata": {},
   "outputs": [],
   "source": [
    "def string_to_int(row):\n",
    "    for i in range(row.size):\n",
    "        row[i] = float(row[i])\n",
    "        print(row[i])\n",
    "#row = income_statement.loc['Revenue']"
   ]
  },
  {
   "cell_type": "code",
   "execution_count": 109,
   "metadata": {},
   "outputs": [
    {
     "data": {
      "text/plain": [
       "'265595000000.0'"
      ]
     },
     "execution_count": 109,
     "metadata": {},
     "output_type": "execute_result"
    }
   ],
   "source": [
    "income_statement = income_statement.astype(float, errors = 'ignore')\n",
    "income_statement.loc['Revenue'][0]"
   ]
  },
  {
   "cell_type": "code",
   "execution_count": null,
   "metadata": {},
   "outputs": [],
   "source": []
  },
  {
   "cell_type": "code",
   "execution_count": null,
   "metadata": {},
   "outputs": [],
   "source": []
  },
  {
   "cell_type": "code",
   "execution_count": null,
   "metadata": {},
   "outputs": [],
   "source": []
  },
  {
   "cell_type": "code",
   "execution_count": null,
   "metadata": {},
   "outputs": [],
   "source": []
  }
 ],
 "metadata": {
  "kernelspec": {
   "display_name": "Python 3",
   "language": "python",
   "name": "python3"
  },
  "language_info": {
   "codemirror_mode": {
    "name": "ipython",
    "version": 3
   },
   "file_extension": ".py",
   "mimetype": "text/x-python",
   "name": "python",
   "nbconvert_exporter": "python",
   "pygments_lexer": "ipython3",
   "version": "3.7.3"
  }
 },
 "nbformat": 4,
 "nbformat_minor": 2
}
