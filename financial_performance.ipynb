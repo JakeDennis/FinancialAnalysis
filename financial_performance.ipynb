{
 "cells": [
  {
   "cell_type": "code",
   "execution_count": 1,
   "metadata": {},
   "outputs": [],
   "source": [
    "from urllib.request import urlopen\n",
    "import json\n",
    "import numpy as np\n",
    "import pandas as pd\n",
    "import datetime as dt\n",
    "import yfinance as yf"
   ]
  },
  {
   "cell_type": "code",
   "execution_count": 2,
   "metadata": {},
   "outputs": [],
   "source": [
    "def get_fmp_jsondata(url):\n",
    "    response = urlopen(url)\n",
    "    data = response.read().decode(\"utf-8\")\n",
    "    return json.loads(data)"
   ]
  },
  {
   "cell_type": "code",
   "execution_count": 3,
   "metadata": {},
   "outputs": [],
   "source": [
    "def get_financial_records(ticker):\n",
    "    def get_fmp_jsondata(url):\n",
    "        response = urlopen(url)\n",
    "        data = response.read().decode('utf-8')\n",
    "        return json.loads(data)\n",
    "\n",
    "    income_statement_url = f'https://financialmodelingprep.com/api/v3/financials/income-statement/{ticker}'\n",
    "    balance_sheet_url = f'https://financialmodelingprep.com/api/v3/financials/balance-sheet-statement/{ticker}'\n",
    "    cash_flow_url = f'https://financialmodelingprep.com/api/v3/financials/cash-flow-statement/{ticker}'\n",
    "    enterprise_values_url = f'https://financialmodelingprep.com/api/v3/enterprise-value/{ticker}'\n",
    "    price_url = f'https://financialmodelingprep.com/api/v3/stock/real-time-price/{ticker}'\n",
    "    \n",
    "    #query APIs for statement values\n",
    "    try:\n",
    "        income_statement = get_fmp_jsondata(income_statement_url)\n",
    "        balance_sheet = get_fmp_jsondata(balance_sheet_url)\n",
    "        statement_of_cash_flows = get_fmp_jsondata(cash_flow_url)\n",
    "        enterprise_values = get_fmp_jsondata(enterprise_values_url)\n",
    "        price = get_fmp_jsondata(price_url)\n",
    "    except:\n",
    "        print(f\"Could not query for {ticker} on Financial Modeling Prep's API.\")\n",
    "\n",
    "    try:\n",
    "        price = price['price']\n",
    "    except:\n",
    "        print(f'Could not process price for {ticker}.')\n",
    "        price = float('NaN')\n",
    "    \n",
    "    #coerce to pandas dataframes \n",
    "    try:\n",
    "        income_statement = pd.DataFrame(income_statement['financials'])\n",
    "        balance_sheet = pd.DataFrame(balance_sheet['financials'])\n",
    "        statement_of_cash_flows = pd.DataFrame(statement_of_cash_flows['financials'])\n",
    "        enterprise_values = pd.DataFrame(enterprise_values['enterpriseValues'])\n",
    "    except:\n",
    "       print(f'Unable to process {ticker} as pandas dataframe.')\n",
    "    \n",
    "    #change statement dataframes to datetime and float values\n",
    "    def coerce_statement_df(df):\n",
    "        df['date'] = pd.to_datetime(df['date'])\n",
    "        df.loc[:, df.columns != 'date'] = df.loc[:, df.columns != 'date'].astype(float)\n",
    "        return df\n",
    "\n",
    "    try:\n",
    "        income_statement = coerce_statement_df(income_statement)\n",
    "        balance_sheet = coerce_statement_df(balance_sheet)\n",
    "        statement_of_cash_flows = coerce_statement_df(statement_of_cash_flows)\n",
    "        enterprise_values = coerce_statement_df(enterprise_values)\n",
    "    except: \n",
    "        print(f'Could not coerce dataframes to specified values for {ticker}')\n",
    "\n",
    "    return income_statement, balance_sheet, statement_of_cash_flows, enterprise_values, price"
   ]
  },
  {
   "cell_type": "code",
   "execution_count": 4,
   "metadata": {},
   "outputs": [],
   "source": [
    "ticker = 'aapl'"
   ]
  },
  {
   "cell_type": "code",
   "execution_count": 5,
   "metadata": {},
   "outputs": [],
   "source": [
    "income_statement, balance_sheet, statement_of_cash_flows, enterprise_values, price = get_financial_records(ticker)"
   ]
  },
  {
   "cell_type": "code",
   "execution_count": 6,
   "metadata": {},
   "outputs": [],
   "source": [
    "def target_share_prices(income_statement, balance_sheet, statement_of_cash_flows, enterprise_values, price, ticker):\n",
    "    print(ticker)    \n",
    "    #Get Shares Outstanding\n",
    "    try:\n",
    "        shares_outstanding = enterprise_values['Number of Shares'][0]\n",
    "    except ValueError:\n",
    "        print(f'---Could not get shares outstanding query for {ticker} from Financial Modeling Prep. Trying Yahoo Finance...')\n",
    "        shares_outstanding = yf.Ticker(ticker).info['sharesOutstanding']\n",
    "    except:\n",
    "        print('---Could not get number of outstanding shares from Yahoo Finance...')\n",
    "        shares_outstanding = float('NaN')\n",
    "    \n",
    "    #calculate ten cap price\n",
    "    def tc_price(income_statement, balance_sheet, statement_of_cash_flows, shares_outstanding):\n",
    "        try:\n",
    "            net_income = income_statement['Net Income'][0]\n",
    "            net_receivables = balance_sheet['Receivables'][0]-balance_sheet['Receivables'][1]\n",
    "            net_payables = balance_sheet['Payables'][0]-balance_sheet['Payables'][1]\n",
    "            income_tax = income_statement['Income Tax Expense'][0]\n",
    "            capex = statement_of_cash_flows['Capital Expenditure'][0]\n",
    "        except:\n",
    "            print('---Unable to calculate Ten Cap price.')\n",
    "        try:\n",
    "            ten_cap_price = net_income + net_receivables + net_payables + income_tax + capex\n",
    "            ten_cap_price = round((ten_cap_price*10)/shares_outstanding,2)\n",
    "        except:\n",
    "            ten_cap_price = float('NaN')\n",
    "        return ten_cap_price\n",
    "\n",
    "    #calculate payback time price\n",
    "    def pbt_price(statement_of_cash_flows, shares_outstanding):\n",
    "        try:\n",
    "            pbt_price = round((statement_of_cash_flows['Free Cash Flow'][0]*(1.16*8))/(enterprise_values['Number of Shares'][0]),2)\n",
    "        except:\n",
    "            print('---Unable to calculate Payback Time price.')\n",
    "            pbt_price = float('NaN')\n",
    "        return pbt_price\n",
    "\n",
    "    ten_cap_price = tc_price(income_statement, balance_sheet, statement_of_cash_flows, shares_outstanding)\n",
    "    payback_time_price = pbt_price(statement_of_cash_flows, shares_outstanding)\n",
    "\n",
    "    return price, ten_cap_price, payback_time_price"
   ]
  },
  {
   "cell_type": "code",
   "execution_count": 7,
   "metadata": {},
   "outputs": [
    {
     "name": "stdout",
     "output_type": "stream",
     "text": "aapl\n"
    },
    {
     "data": {
      "text/plain": "(275.16, 85.56, 110.3)"
     },
     "execution_count": 7,
     "metadata": {},
     "output_type": "execute_result"
    }
   ],
   "source": [
    "target_share_prices(income_statement, balance_sheet, statement_of_cash_flows, enterprise_values, price, ticker)"
   ]
  },
  {
   "cell_type": "code",
   "execution_count": 55,
   "metadata": {},
   "outputs": [],
   "source": [
    "def metric_growth(metric, df):\n",
    "    total_years = df.count(axis='rows')[metric]\n",
    "    total_years -= 1\n",
    "    new_column_index = df.columns.get_loc(metric) + 1\n",
    "    \n",
    "    metric_growth = []\n",
    "    for year in range(total_years):\n",
    "        last_year = year + 1\n",
    "        metric_growth_rate = round(((df[metric][year] - df[metric][last_year]) / df[metric][last_year]), 3)\n",
    "        metric_growth.append(metric_growth_rate)\n",
    "    metric_growth.append(float('NaN'))\n",
    "    index = df.columns.get_loc(metric) + 1\n",
    "    try:\n",
    "        df.insert(index, f'{metric} Growth Rate', metric_growth, True)\n",
    "    except ValueError:\n",
    "        df.insert(index, f'{metric} Growth Rate', pd.Series(metric_growth), True)\n",
    "    return df"
   ]
  },
  {
   "cell_type": "code",
   "execution_count": 34,
   "metadata": {},
   "outputs": [],
   "source": [
    "#calculate and insert book value per share (BVPS)\n",
    "metric = 'Total shareholders equity'\n",
    "total_years = balance_sheet.count(axis='rows')[metric]\n",
    "index = balance_sheet.columns.get_loc(metric) + 1\n",
    "bvps = []\n",
    "for year in range(total_years):\n",
    "    try:\n",
    "        bvps.append((balance_sheet[metric][year] / enterprise_values['Number of Shares'][year]))\n",
    "    except KeyError: \n",
    "        bvps.append(float('NaN'))\n",
    "balance_sheet.insert(index, 'Book Value per Share', bvps, False)"
   ]
  },
  {
   "cell_type": "code",
   "execution_count": 56,
   "metadata": {},
   "outputs": [
    {
     "data": {
      "text/html": "<div>\n<style scoped>\n    .dataframe tbody tr th:only-of-type {\n        vertical-align: middle;\n    }\n\n    .dataframe tbody tr th {\n        vertical-align: top;\n    }\n\n    .dataframe thead th {\n        text-align: right;\n    }\n</style>\n<table border=\"1\" class=\"dataframe\">\n  <thead>\n    <tr style=\"text-align: right;\">\n      <th></th>\n      <th>date</th>\n      <th>Cash and cash equivalents</th>\n      <th>Cash and cash equivalents Growth Rate</th>\n      <th>Short-term investments</th>\n      <th>Cash and short-term investments</th>\n      <th>Receivables</th>\n      <th>Inventories</th>\n      <th>Total current assets</th>\n      <th>Property, Plant &amp; Equipment Net</th>\n      <th>Goodwill and Intangible Assets</th>\n      <th>...</th>\n      <th>Total liabilities</th>\n      <th>Other comprehensive income</th>\n      <th>Retained earnings (deficit)</th>\n      <th>Total shareholders equity</th>\n      <th>Book Value per Share</th>\n      <th>Book Value per Share Growth Rate</th>\n      <th>Investments</th>\n      <th>Net Debt</th>\n      <th>Other Assets</th>\n      <th>Other Liabilities</th>\n    </tr>\n  </thead>\n  <tbody>\n    <tr>\n      <td>0</td>\n      <td>2019-09-28</td>\n      <td>4.884400e+10</td>\n      <td>0.885</td>\n      <td>5.171300e+10</td>\n      <td>1.005570e+11</td>\n      <td>4.580400e+10</td>\n      <td>4.106000e+09</td>\n      <td>1.628190e+11</td>\n      <td>3.737800e+10</td>\n      <td>0.000000e+00</td>\n      <td>...</td>\n      <td>2.480280e+11</td>\n      <td>-5.840000e+08</td>\n      <td>4.589800e+10</td>\n      <td>9.048800e+10</td>\n      <td>18.260568</td>\n      <td>-0.111</td>\n      <td>1.570540e+11</td>\n      <td>7.490000e+09</td>\n      <td>1.235200e+10</td>\n      <td>4.324200e+10</td>\n    </tr>\n    <tr>\n      <td>1</td>\n      <td>2018-09-29</td>\n      <td>2.591300e+10</td>\n      <td>0.277</td>\n      <td>4.038800e+10</td>\n      <td>6.630100e+10</td>\n      <td>4.899500e+10</td>\n      <td>3.956000e+09</td>\n      <td>1.313390e+11</td>\n      <td>4.130400e+10</td>\n      <td>0.000000e+00</td>\n      <td>...</td>\n      <td>2.585780e+11</td>\n      <td>-3.454000e+09</td>\n      <td>7.040000e+10</td>\n      <td>1.071470e+11</td>\n      <td>20.537096</td>\n      <td>-0.162</td>\n      <td>2.111870e+11</td>\n      <td>4.818200e+10</td>\n      <td>1.208700e+10</td>\n      <td>3.929300e+10</td>\n    </tr>\n    <tr>\n      <td>2</td>\n      <td>2017-09-30</td>\n      <td>2.028900e+10</td>\n      <td>-0.010</td>\n      <td>5.389200e+10</td>\n      <td>7.418100e+10</td>\n      <td>3.567300e+10</td>\n      <td>4.855000e+09</td>\n      <td>1.286450e+11</td>\n      <td>3.378300e+10</td>\n      <td>0.000000e+00</td>\n      <td>...</td>\n      <td>2.412720e+11</td>\n      <td>-1.500000e+08</td>\n      <td>9.833000e+10</td>\n      <td>1.340470e+11</td>\n      <td>24.502177</td>\n      <td>0.099</td>\n      <td>2.486060e+11</td>\n      <td>4.149900e+10</td>\n      <td>1.393600e+10</td>\n      <td>3.809900e+10</td>\n    </tr>\n    <tr>\n      <td>3</td>\n      <td>2016-09-24</td>\n      <td>2.048400e+10</td>\n      <td>-0.030</td>\n      <td>4.667100e+10</td>\n      <td>6.715500e+10</td>\n      <td>2.929900e+10</td>\n      <td>2.132000e+09</td>\n      <td>1.068690e+11</td>\n      <td>2.701000e+10</td>\n      <td>8.620000e+09</td>\n      <td>...</td>\n      <td>1.934370e+11</td>\n      <td>6.340000e+08</td>\n      <td>9.636400e+10</td>\n      <td>1.282490e+11</td>\n      <td>22.290912</td>\n      <td>0.137</td>\n      <td>2.171010e+11</td>\n      <td>1.987700e+10</td>\n      <td>8.283000e+09</td>\n      <td>3.010700e+10</td>\n    </tr>\n    <tr>\n      <td>4</td>\n      <td>2015-09-26</td>\n      <td>2.112000e+10</td>\n      <td>0.526</td>\n      <td>2.048100e+10</td>\n      <td>4.160100e+10</td>\n      <td>3.034300e+10</td>\n      <td>2.349000e+09</td>\n      <td>8.937800e+10</td>\n      <td>2.247100e+10</td>\n      <td>9.009000e+09</td>\n      <td>...</td>\n      <td>1.709900e+11</td>\n      <td>-3.450000e+08</td>\n      <td>9.228400e+10</td>\n      <td>1.193550e+11</td>\n      <td>19.612782</td>\n      <td>NaN</td>\n      <td>1.845460e+11</td>\n      <td>2.272700e+10</td>\n      <td>1.508500e+10</td>\n      <td>3.412100e+10</td>\n    </tr>\n    <tr>\n      <td>5</td>\n      <td>2014-09-27</td>\n      <td>1.384400e+10</td>\n      <td>-0.029</td>\n      <td>1.123300e+10</td>\n      <td>2.507700e+10</td>\n      <td>2.721900e+10</td>\n      <td>2.111000e+09</td>\n      <td>6.853100e+10</td>\n      <td>2.062400e+10</td>\n      <td>8.758000e+09</td>\n      <td>...</td>\n      <td>1.202920e+11</td>\n      <td>1.082000e+09</td>\n      <td>8.715200e+10</td>\n      <td>1.115470e+11</td>\n      <td>NaN</td>\n      <td>NaN</td>\n      <td>1.413950e+11</td>\n      <td>1.021800e+10</td>\n      <td>1.412400e+10</td>\n      <td>2.694400e+10</td>\n    </tr>\n    <tr>\n      <td>6</td>\n      <td>2013-09-28</td>\n      <td>1.425900e+10</td>\n      <td>0.327</td>\n      <td>2.628700e+10</td>\n      <td>4.054600e+10</td>\n      <td>2.064100e+10</td>\n      <td>1.764000e+09</td>\n      <td>7.328600e+10</td>\n      <td>1.659700e+10</td>\n      <td>5.756000e+09</td>\n      <td>...</td>\n      <td>8.345100e+10</td>\n      <td>-4.710000e+08</td>\n      <td>1.042560e+11</td>\n      <td>1.235490e+11</td>\n      <td>NaN</td>\n      <td>NaN</td>\n      <td>1.325020e+11</td>\n      <td>-2.358600e+10</td>\n      <td>1.033500e+10</td>\n      <td>2.129100e+10</td>\n    </tr>\n    <tr>\n      <td>7</td>\n      <td>2012-09-29</td>\n      <td>1.074600e+10</td>\n      <td>0.095</td>\n      <td>1.838300e+10</td>\n      <td>2.912900e+10</td>\n      <td>1.869200e+10</td>\n      <td>7.910000e+08</td>\n      <td>5.765300e+10</td>\n      <td>1.545200e+10</td>\n      <td>5.359000e+09</td>\n      <td>...</td>\n      <td>5.785400e+10</td>\n      <td>4.990000e+08</td>\n      <td>1.012890e+11</td>\n      <td>1.182100e+11</td>\n      <td>NaN</td>\n      <td>NaN</td>\n      <td>1.105050e+11</td>\n      <td>-2.912900e+10</td>\n      <td>9.041000e+09</td>\n      <td>1.736700e+10</td>\n    </tr>\n    <tr>\n      <td>8</td>\n      <td>2011-09-24</td>\n      <td>9.815000e+09</td>\n      <td>-0.128</td>\n      <td>1.613700e+10</td>\n      <td>2.595200e+10</td>\n      <td>1.171700e+10</td>\n      <td>7.760000e+08</td>\n      <td>4.498800e+10</td>\n      <td>7.777000e+09</td>\n      <td>4.432000e+09</td>\n      <td>...</td>\n      <td>3.975600e+10</td>\n      <td>4.430000e+08</td>\n      <td>6.284100e+10</td>\n      <td>7.661500e+10</td>\n      <td>NaN</td>\n      <td>NaN</td>\n      <td>7.175500e+10</td>\n      <td>-2.595200e+10</td>\n      <td>6.543000e+09</td>\n      <td>1.333800e+10</td>\n    </tr>\n    <tr>\n      <td>9</td>\n      <td>2010-09-25</td>\n      <td>1.126100e+10</td>\n      <td>1.140</td>\n      <td>1.435900e+10</td>\n      <td>2.562000e+10</td>\n      <td>9.924000e+09</td>\n      <td>1.051000e+09</td>\n      <td>4.167800e+10</td>\n      <td>4.768000e+09</td>\n      <td>1.083000e+09</td>\n      <td>...</td>\n      <td>2.739200e+10</td>\n      <td>-4.600000e+07</td>\n      <td>3.716900e+10</td>\n      <td>4.779100e+10</td>\n      <td>NaN</td>\n      <td>NaN</td>\n      <td>3.975000e+10</td>\n      <td>-2.562000e+10</td>\n      <td>5.083000e+09</td>\n      <td>8.707000e+09</td>\n    </tr>\n    <tr>\n      <td>10</td>\n      <td>2009-09-26</td>\n      <td>5.263000e+09</td>\n      <td>NaN</td>\n      <td>1.820100e+10</td>\n      <td>2.346400e+10</td>\n      <td>5.057000e+09</td>\n      <td>4.550000e+08</td>\n      <td>1.594600e+10</td>\n      <td>2.954000e+09</td>\n      <td>4.530000e+08</td>\n      <td>...</td>\n      <td>1.586100e+10</td>\n      <td>7.700000e+07</td>\n      <td>2.335300e+10</td>\n      <td>3.164000e+10</td>\n      <td>NaN</td>\n      <td>NaN</td>\n      <td>2.872900e+10</td>\n      <td>-2.346400e+10</td>\n      <td>2.579000e+09</td>\n      <td>5.905000e+09</td>\n    </tr>\n  </tbody>\n</table>\n<p>11 rows × 33 columns</p>\n</div>",
      "text/plain": "         date  Cash and cash equivalents  \\\n0  2019-09-28               4.884400e+10   \n1  2018-09-29               2.591300e+10   \n2  2017-09-30               2.028900e+10   \n3  2016-09-24               2.048400e+10   \n4  2015-09-26               2.112000e+10   \n5  2014-09-27               1.384400e+10   \n6  2013-09-28               1.425900e+10   \n7  2012-09-29               1.074600e+10   \n8  2011-09-24               9.815000e+09   \n9  2010-09-25               1.126100e+10   \n10 2009-09-26               5.263000e+09   \n\n    Cash and cash equivalents Growth Rate  Short-term investments  \\\n0                                   0.885            5.171300e+10   \n1                                   0.277            4.038800e+10   \n2                                  -0.010            5.389200e+10   \n3                                  -0.030            4.667100e+10   \n4                                   0.526            2.048100e+10   \n5                                  -0.029            1.123300e+10   \n6                                   0.327            2.628700e+10   \n7                                   0.095            1.838300e+10   \n8                                  -0.128            1.613700e+10   \n9                                   1.140            1.435900e+10   \n10                                    NaN            1.820100e+10   \n\n    Cash and short-term investments   Receivables   Inventories  \\\n0                      1.005570e+11  4.580400e+10  4.106000e+09   \n1                      6.630100e+10  4.899500e+10  3.956000e+09   \n2                      7.418100e+10  3.567300e+10  4.855000e+09   \n3                      6.715500e+10  2.929900e+10  2.132000e+09   \n4                      4.160100e+10  3.034300e+10  2.349000e+09   \n5                      2.507700e+10  2.721900e+10  2.111000e+09   \n6                      4.054600e+10  2.064100e+10  1.764000e+09   \n7                      2.912900e+10  1.869200e+10  7.910000e+08   \n8                      2.595200e+10  1.171700e+10  7.760000e+08   \n9                      2.562000e+10  9.924000e+09  1.051000e+09   \n10                     2.346400e+10  5.057000e+09  4.550000e+08   \n\n    Total current assets  Property, Plant & Equipment Net  \\\n0           1.628190e+11                     3.737800e+10   \n1           1.313390e+11                     4.130400e+10   \n2           1.286450e+11                     3.378300e+10   \n3           1.068690e+11                     2.701000e+10   \n4           8.937800e+10                     2.247100e+10   \n5           6.853100e+10                     2.062400e+10   \n6           7.328600e+10                     1.659700e+10   \n7           5.765300e+10                     1.545200e+10   \n8           4.498800e+10                     7.777000e+09   \n9           4.167800e+10                     4.768000e+09   \n10          1.594600e+10                     2.954000e+09   \n\n    Goodwill and Intangible Assets  ...  Total liabilities  \\\n0                     0.000000e+00  ...       2.480280e+11   \n1                     0.000000e+00  ...       2.585780e+11   \n2                     0.000000e+00  ...       2.412720e+11   \n3                     8.620000e+09  ...       1.934370e+11   \n4                     9.009000e+09  ...       1.709900e+11   \n5                     8.758000e+09  ...       1.202920e+11   \n6                     5.756000e+09  ...       8.345100e+10   \n7                     5.359000e+09  ...       5.785400e+10   \n8                     4.432000e+09  ...       3.975600e+10   \n9                     1.083000e+09  ...       2.739200e+10   \n10                    4.530000e+08  ...       1.586100e+10   \n\n    Other comprehensive income  Retained earnings (deficit)  \\\n0                -5.840000e+08                 4.589800e+10   \n1                -3.454000e+09                 7.040000e+10   \n2                -1.500000e+08                 9.833000e+10   \n3                 6.340000e+08                 9.636400e+10   \n4                -3.450000e+08                 9.228400e+10   \n5                 1.082000e+09                 8.715200e+10   \n6                -4.710000e+08                 1.042560e+11   \n7                 4.990000e+08                 1.012890e+11   \n8                 4.430000e+08                 6.284100e+10   \n9                -4.600000e+07                 3.716900e+10   \n10                7.700000e+07                 2.335300e+10   \n\n    Total shareholders equity  Book Value per Share  \\\n0                9.048800e+10             18.260568   \n1                1.071470e+11             20.537096   \n2                1.340470e+11             24.502177   \n3                1.282490e+11             22.290912   \n4                1.193550e+11             19.612782   \n5                1.115470e+11                   NaN   \n6                1.235490e+11                   NaN   \n7                1.182100e+11                   NaN   \n8                7.661500e+10                   NaN   \n9                4.779100e+10                   NaN   \n10               3.164000e+10                   NaN   \n\n    Book Value per Share Growth Rate   Investments      Net Debt  \\\n0                             -0.111  1.570540e+11  7.490000e+09   \n1                             -0.162  2.111870e+11  4.818200e+10   \n2                              0.099  2.486060e+11  4.149900e+10   \n3                              0.137  2.171010e+11  1.987700e+10   \n4                                NaN  1.845460e+11  2.272700e+10   \n5                                NaN  1.413950e+11  1.021800e+10   \n6                                NaN  1.325020e+11 -2.358600e+10   \n7                                NaN  1.105050e+11 -2.912900e+10   \n8                                NaN  7.175500e+10 -2.595200e+10   \n9                                NaN  3.975000e+10 -2.562000e+10   \n10                               NaN  2.872900e+10 -2.346400e+10   \n\n    Other Assets  Other Liabilities  \n0   1.235200e+10       4.324200e+10  \n1   1.208700e+10       3.929300e+10  \n2   1.393600e+10       3.809900e+10  \n3   8.283000e+09       3.010700e+10  \n4   1.508500e+10       3.412100e+10  \n5   1.412400e+10       2.694400e+10  \n6   1.033500e+10       2.129100e+10  \n7   9.041000e+09       1.736700e+10  \n8   6.543000e+09       1.333800e+10  \n9   5.083000e+09       8.707000e+09  \n10  2.579000e+09       5.905000e+09  \n\n[11 rows x 33 columns]"
     },
     "execution_count": 56,
     "metadata": {},
     "output_type": "execute_result"
    }
   ],
   "source": [
    "metric_growth('EPS', income_statement)\n",
    "metric_growth('Revenue', income_statement)\n",
    "metric_growth('Operating Income', income_statement)\n",
    "metric_growth('Cash and cash equivalents', balance_sheet)\n",
    "metric_growth('Book Value per Share', balance_sheet)\n",
    "metric_growth('Free Cash Flow', statement_of_cash_flows)"
   ]
  },
  {
   "cell_type": "code",
   "execution_count": null,
   "metadata": {},
   "outputs": [],
   "source": []
  }
 ],
 "metadata": {
  "kernelspec": {
   "display_name": "Python 3",
   "language": "python",
   "name": "python3"
  },
  "language_info": {
   "codemirror_mode": {
    "name": "ipython",
    "version": 3
   },
   "file_extension": ".py",
   "mimetype": "text/x-python",
   "name": "python",
   "nbconvert_exporter": "python",
   "pygments_lexer": "ipython3",
   "version": "3.7.3"
  }
 },
 "nbformat": 4,
 "nbformat_minor": 2
}