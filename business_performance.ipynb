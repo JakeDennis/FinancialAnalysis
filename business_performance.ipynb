{
 "nbformat": 4,
 "nbformat_minor": 2,
 "metadata": {
  "language_info": {
   "name": "python",
   "codemirror_mode": {
    "name": "ipython",
    "version": 3
   }
  },
  "orig_nbformat": 2,
  "file_extension": ".py",
  "mimetype": "text/x-python",
  "name": "python",
  "npconvert_exporter": "python",
  "pygments_lexer": "ipython3",
  "version": 3
 },
 "cells": [
  {
   "cell_type": "code",
   "execution_count": 18,
   "metadata": {},
   "outputs": [],
   "source": [
    "import pandas as pd\n",
    "from financial_performance import *"
   ]
  },
  {
   "cell_type": "code",
   "execution_count": 19,
   "metadata": {},
   "outputs": [],
   "source": [
    "def business_performance(ticker):\n",
    "    income_statement, balance_sheet, statement_of_cash_flows, enterprise_values, price = get_financial_records(ticker)\n",
    "    return income_statement, balance_sheet, statement_of_cash_flows, enterprise_values, price"
   ]
  },
  {
   "cell_type": "code",
   "execution_count": 20,
   "metadata": {},
   "outputs": [],
   "source": [
    "income_statement, balance_sheet, statement_of_cash_flows, enterprise_values, price = business_performance('aapl')"
   ]
  },
  {
   "cell_type": "code",
   "execution_count": 73,
   "metadata": {},
   "outputs": [],
   "source": [
    "def metric_growth(metric):\n",
    "    total_years = income_statement.count(axis='columns')[metric]\n",
    "    #skip 1st year\n",
    "    growth_years = iter(reversed(range(total_years)))\n",
    "    next(growth_years, None)\n",
    "\n",
    "    for year in growth_years:\n",
    "        last_year = year - 1\n",
    "        print(year, last_year)\n",
    "        EPS_growth = income_statement[year][metric] - income_statement[last_year][metric] / income_statement[last_year][metric]\n",
    "        print(EPS_growth)"
   ]
  },
  {
   "cell_type": "code",
   "execution_count": 74,
   "metadata": {},
   "outputs": [
    {
     "name": "stdout",
     "output_type": "stream",
     "text": "9 8\n"
    },
    {
     "ename": "TypeError",
     "evalue": "unsupported operand type(s) for /: 'str' and 'str'",
     "output_type": "error",
     "traceback": [
      "\u001b[1;31m---------------------------------------------------------------------------\u001b[0m",
      "\u001b[1;31mTypeError\u001b[0m                                 Traceback (most recent call last)",
      "\u001b[1;32m<ipython-input-74-6f1bf55ad185>\u001b[0m in \u001b[0;36m<module>\u001b[1;34m\u001b[0m\n\u001b[1;32m----> 1\u001b[1;33m \u001b[0mmetric_growth\u001b[0m\u001b[1;33m(\u001b[0m\u001b[1;34m'EPS'\u001b[0m\u001b[1;33m)\u001b[0m\u001b[1;33m\u001b[0m\u001b[1;33m\u001b[0m\u001b[0m\n\u001b[0m",
      "\u001b[1;32m<ipython-input-73-f6112263c73a>\u001b[0m in \u001b[0;36mmetric_growth\u001b[1;34m(metric)\u001b[0m\n\u001b[0;32m      8\u001b[0m         \u001b[0mlast_year\u001b[0m \u001b[1;33m=\u001b[0m \u001b[0myear\u001b[0m \u001b[1;33m-\u001b[0m \u001b[1;36m1\u001b[0m\u001b[1;33m\u001b[0m\u001b[1;33m\u001b[0m\u001b[0m\n\u001b[0;32m      9\u001b[0m         \u001b[0mprint\u001b[0m\u001b[1;33m(\u001b[0m\u001b[0myear\u001b[0m\u001b[1;33m,\u001b[0m \u001b[0mlast_year\u001b[0m\u001b[1;33m)\u001b[0m\u001b[1;33m\u001b[0m\u001b[1;33m\u001b[0m\u001b[0m\n\u001b[1;32m---> 10\u001b[1;33m         \u001b[0mEPS_growth\u001b[0m \u001b[1;33m=\u001b[0m \u001b[0mincome_statement\u001b[0m\u001b[1;33m[\u001b[0m\u001b[0myear\u001b[0m\u001b[1;33m]\u001b[0m\u001b[1;33m[\u001b[0m\u001b[0mmetric\u001b[0m\u001b[1;33m]\u001b[0m \u001b[1;33m-\u001b[0m \u001b[0mincome_statement\u001b[0m\u001b[1;33m[\u001b[0m\u001b[0mlast_year\u001b[0m\u001b[1;33m]\u001b[0m\u001b[1;33m[\u001b[0m\u001b[0mmetric\u001b[0m\u001b[1;33m]\u001b[0m \u001b[1;33m/\u001b[0m \u001b[0mincome_statement\u001b[0m\u001b[1;33m[\u001b[0m\u001b[0mlast_year\u001b[0m\u001b[1;33m]\u001b[0m\u001b[1;33m[\u001b[0m\u001b[0mmetric\u001b[0m\u001b[1;33m]\u001b[0m\u001b[1;33m\u001b[0m\u001b[1;33m\u001b[0m\u001b[0m\n\u001b[0m\u001b[0;32m     11\u001b[0m         \u001b[0mprint\u001b[0m\u001b[1;33m(\u001b[0m\u001b[0mEPS_growth\u001b[0m\u001b[1;33m)\u001b[0m\u001b[1;33m\u001b[0m\u001b[1;33m\u001b[0m\u001b[0m\n",
      "\u001b[1;31mTypeError\u001b[0m: unsupported operand type(s) for /: 'str' and 'str'"
     ]
    }
   ],
   "source": [
    "metric_growth('EPS')"
   ]
  },
  {
   "cell_type": "code",
   "execution_count": 32,
   "metadata": {},
   "outputs": [],
   "source": [
    "income_statement = pd.DataFrame(income_statement)"
   ]
  },
  {
   "cell_type": "code",
   "execution_count": 72,
   "metadata": {},
   "outputs": [
    {
     "ename": "NameError",
     "evalue": "name 'last_year' is not defined",
     "output_type": "error",
     "traceback": [
      "\u001b[1;31m---------------------------------------------------------------------------\u001b[0m",
      "\u001b[1;31mNameError\u001b[0m                                 Traceback (most recent call last)",
      "\u001b[1;32m<ipython-input-72-9aebad6ca8d5>\u001b[0m in \u001b[0;36m<module>\u001b[1;34m\u001b[0m\n\u001b[1;32m----> 1\u001b[1;33m \u001b[0mlast_year\u001b[0m\u001b[1;33m\u001b[0m\u001b[1;33m\u001b[0m\u001b[0m\n\u001b[0m",
      "\u001b[1;31mNameError\u001b[0m: name 'last_year' is not defined"
     ]
    }
   ],
   "source": [
    "last_year"
   ]
  },
  {
   "cell_type": "code",
   "execution_count": 29,
   "metadata": {},
   "outputs": [
    {
     "data": {
      "text/html": "<div>\n<style scoped>\n    .dataframe tbody tr th:only-of-type {\n        vertical-align: middle;\n    }\n\n    .dataframe tbody tr th {\n        vertical-align: top;\n    }\n\n    .dataframe thead th {\n        text-align: right;\n    }\n</style>\n<table border=\"1\" class=\"dataframe\">\n  <thead>\n    <tr style=\"text-align: right;\">\n      <th></th>\n      <th>0</th>\n      <th>1</th>\n      <th>2</th>\n      <th>3</th>\n      <th>4</th>\n      <th>5</th>\n      <th>6</th>\n      <th>7</th>\n      <th>8</th>\n      <th>9</th>\n      <th>10</th>\n    </tr>\n  </thead>\n  <tbody>\n    <tr>\n      <th>Consolidated Income</th>\n      <td>55256000000.0</td>\n      <td>59531000000.0</td>\n      <td>48351000000.0</td>\n      <td>45687000000.0</td>\n      <td>53394000000.0</td>\n      <td>39510000000.0</td>\n      <td>37037000000.0</td>\n      <td>41733000000.0</td>\n      <td>25922000000.0</td>\n      <td>14013000000.0</td>\n      <td>8235000000.0</td>\n    </tr>\n    <tr>\n      <th>Cost of Revenue</th>\n      <td>161782000000.0</td>\n      <td>163756000000.0</td>\n      <td>141048000000.0</td>\n      <td>131376000000.0</td>\n      <td>140089000000.0</td>\n      <td>112258000000.0</td>\n      <td>106606000000.0</td>\n      <td>87846000000.0</td>\n      <td>64431000000.0</td>\n      <td>39541000000.0</td>\n      <td>25683000000.0</td>\n    </tr>\n    <tr>\n      <th>Dividend per Share</th>\n      <td>3.0</td>\n      <td>2.72</td>\n      <td>2.4</td>\n      <td>2.18</td>\n      <td>1.98</td>\n      <td>1.811</td>\n      <td>1.629</td>\n      <td>0.379</td>\n      <td>0.0</td>\n      <td>0.0</td>\n      <td>0.0</td>\n    </tr>\n    <tr>\n      <th>EBIT</th>\n      <td>65737000000.0</td>\n      <td>72903000000.0</td>\n      <td>64089000000.0</td>\n      <td>61372000000.0</td>\n      <td>72515000000.0</td>\n      <td>53483000000.0</td>\n      <td>50155000000.0</td>\n      <td>55763000000.0</td>\n      <td>34205000000.0</td>\n      <td>18540000000.0</td>\n      <td>12066000000.0</td>\n    </tr>\n    <tr>\n      <th>EBIT Margin</th>\n      <td>0.2527</td>\n      <td>0.2745</td>\n      <td>0.2796</td>\n      <td>0.2846</td>\n      <td>0.3103</td>\n      <td>0.2926</td>\n      <td>0.2935</td>\n      <td>0.3563</td>\n      <td>0.316</td>\n      <td>0.2842</td>\n      <td>0.2812</td>\n    </tr>\n    <tr>\n      <th>EBITDA</th>\n      <td>78284000000.0</td>\n      <td>83806000000.0</td>\n      <td>74246000000.0</td>\n      <td>71877000000.0</td>\n      <td>83772000000.0</td>\n      <td>61429000000.0</td>\n      <td>56912000000.0</td>\n      <td>59040000000.0</td>\n      <td>36019000000.0</td>\n      <td>19567000000.0</td>\n      <td>12800000000.0</td>\n    </tr>\n    <tr>\n      <th>EBITDA Margin</th>\n      <td>0.301</td>\n      <td>0.316</td>\n      <td>0.324</td>\n      <td>0.333</td>\n      <td>0.358</td>\n      <td>0.336</td>\n      <td>0.333</td>\n      <td>0.377</td>\n      <td>0.333</td>\n      <td>0.3</td>\n      <td>0.298</td>\n    </tr>\n    <tr>\n      <th>EPS</th>\n      <td>11.97</td>\n      <td>12.01</td>\n      <td>9.27</td>\n      <td>8.35</td>\n      <td>9.28</td>\n      <td>6.49</td>\n      <td>5.72</td>\n      <td>6.38</td>\n      <td>4.007</td>\n      <td>2.201</td>\n      <td>1.317</td>\n    </tr>\n    <tr>\n      <th>EPS Diluted</th>\n      <td>11.89</td>\n      <td>11.91</td>\n      <td>9.21</td>\n      <td>8.31</td>\n      <td>9.22</td>\n      <td>6.45</td>\n      <td>5.68</td>\n      <td>6.31</td>\n      <td>3.954</td>\n      <td>2.164</td>\n      <td>1.297</td>\n    </tr>\n    <tr>\n      <th>Earnings Before Tax Margin</th>\n      <td>0.2527</td>\n      <td>0.2745</td>\n      <td>0.2796</td>\n      <td>0.2846</td>\n      <td>0.3103</td>\n      <td>0.2926</td>\n      <td>0.2935</td>\n      <td>0.3563</td>\n      <td>0.316</td>\n      <td>0.2842</td>\n      <td>0.2812</td>\n    </tr>\n    <tr>\n      <th>Earnings before Tax</th>\n      <td>65737000000.0</td>\n      <td>72903000000.0</td>\n      <td>64089000000.0</td>\n      <td>61372000000.0</td>\n      <td>72515000000.0</td>\n      <td>53483000000.0</td>\n      <td>50155000000.0</td>\n      <td>55763000000.0</td>\n      <td>34205000000.0</td>\n      <td>18540000000.0</td>\n      <td>12066000000.0</td>\n    </tr>\n    <tr>\n      <th>Free Cash Flow margin</th>\n      <td>0.2264</td>\n      <td>0.2414</td>\n      <td>0.2259</td>\n      <td>0.2481</td>\n      <td>0.2986</td>\n      <td>0.273</td>\n      <td>0.2609</td>\n      <td>0.2649</td>\n      <td>0.2779</td>\n      <td>0.2526</td>\n      <td>0.2085</td>\n    </tr>\n    <tr>\n      <th>Gross Margin</th>\n      <td>0.3782</td>\n      <td>0.3834</td>\n      <td>0.3847</td>\n      <td>0.3908</td>\n      <td>0.4006</td>\n      <td>0.3859</td>\n      <td>0.3762</td>\n      <td>0.4387</td>\n      <td>0.4048</td>\n      <td>0.3938</td>\n      <td>0.4014</td>\n    </tr>\n    <tr>\n      <th>Gross Profit</th>\n      <td>98392000000.0</td>\n      <td>101839000000.0</td>\n      <td>88186000000.0</td>\n      <td>84263000000.0</td>\n      <td>93626000000.0</td>\n      <td>70537000000.0</td>\n      <td>64304000000.0</td>\n      <td>68662000000.0</td>\n      <td>43818000000.0</td>\n      <td>25684000000.0</td>\n      <td>17222000000.0</td>\n    </tr>\n    <tr>\n      <th>Income Tax Expense</th>\n      <td>10481000000.0</td>\n      <td>13372000000.0</td>\n      <td>15738000000.0</td>\n      <td>15685000000.0</td>\n      <td>19121000000.0</td>\n      <td>13973000000.0</td>\n      <td>13118000000.0</td>\n      <td>14030000000.0</td>\n      <td>8283000000.0</td>\n      <td>4527000000.0</td>\n      <td>3831000000.0</td>\n    </tr>\n    <tr>\n      <th>Interest Expense</th>\n      <td>0.0</td>\n      <td>0.0</td>\n      <td>0.0</td>\n      <td>0.0</td>\n      <td>0.0</td>\n      <td>0.0</td>\n      <td>0.0</td>\n      <td>0.0</td>\n      <td>0.0</td>\n      <td>0.0</td>\n      <td>0.0</td>\n    </tr>\n    <tr>\n      <th>Net Income</th>\n      <td>55256000000.0</td>\n      <td>59531000000.0</td>\n      <td>48351000000.0</td>\n      <td>45687000000.0</td>\n      <td>53394000000.0</td>\n      <td>39510000000.0</td>\n      <td>37037000000.0</td>\n      <td>41733000000.0</td>\n      <td>25922000000.0</td>\n      <td>14013000000.0</td>\n      <td>8235000000.0</td>\n    </tr>\n    <tr>\n      <th>Net Income - Discontinued ops</th>\n      <td>0.0</td>\n      <td>0.0</td>\n      <td>0.0</td>\n      <td>0.0</td>\n      <td>0.0</td>\n      <td>0.0</td>\n      <td>0.0</td>\n      <td>0.0</td>\n      <td>0.0</td>\n      <td>0.0</td>\n      <td>0.0</td>\n    </tr>\n    <tr>\n      <th>Net Income - Non-Controlling int</th>\n      <td>0.0</td>\n      <td>0.0</td>\n      <td>0.0</td>\n      <td>0.0</td>\n      <td>0.0</td>\n      <td>0.0</td>\n      <td>0.0</td>\n      <td>0.0</td>\n      <td>0.0</td>\n      <td>0.0</td>\n      <td>0.0</td>\n    </tr>\n    <tr>\n      <th>Net Income Com</th>\n      <td>55256000000.0</td>\n      <td>59531000000.0</td>\n      <td>48351000000.0</td>\n      <td>45687000000.0</td>\n      <td>53394000000.0</td>\n      <td>39510000000.0</td>\n      <td>37037000000.0</td>\n      <td>41733000000.0</td>\n      <td>25922000000.0</td>\n      <td>14013000000.0</td>\n      <td>8235000000.0</td>\n    </tr>\n    <tr>\n      <th>Net Profit Margin</th>\n      <td>0.2124</td>\n      <td>0.2241</td>\n      <td>0.2109</td>\n      <td>0.2119</td>\n      <td>0.2285</td>\n      <td>0.2161</td>\n      <td>0.2167</td>\n      <td>0.2667</td>\n      <td>0.2395</td>\n      <td>0.2148</td>\n      <td>0.1919</td>\n    </tr>\n    <tr>\n      <th>Operating Expenses</th>\n      <td>34462000000.0</td>\n      <td>30941000000.0</td>\n      <td>26842000000.0</td>\n      <td>24239000000.0</td>\n      <td>22396000000.0</td>\n      <td>18034000000.0</td>\n      <td>15305000000.0</td>\n      <td>13421000000.0</td>\n      <td>10028000000.0</td>\n      <td>7299000000.0</td>\n      <td>5482000000.0</td>\n    </tr>\n    <tr>\n      <th>Operating Income</th>\n      <td>63930000000.0</td>\n      <td>70898000000.0</td>\n      <td>61344000000.0</td>\n      <td>60024000000.0</td>\n      <td>71230000000.0</td>\n      <td>52503000000.0</td>\n      <td>48999000000.0</td>\n      <td>55241000000.0</td>\n      <td>33790000000.0</td>\n      <td>18385000000.0</td>\n      <td>11740000000.0</td>\n    </tr>\n    <tr>\n      <th>Preferred Dividends</th>\n      <td>0.0</td>\n      <td>0.0</td>\n      <td>0.0</td>\n      <td>0.0</td>\n      <td>0.0</td>\n      <td>0.0</td>\n      <td>0.0</td>\n      <td>0.0</td>\n      <td>0.0</td>\n      <td>0.0</td>\n      <td>0.0</td>\n    </tr>\n    <tr>\n      <th>Profit Margin</th>\n      <td>0.212</td>\n      <td>0.224</td>\n      <td>0.211</td>\n      <td>0.212</td>\n      <td>0.228</td>\n      <td>0.216</td>\n      <td>0.217</td>\n      <td>0.267</td>\n      <td>0.239</td>\n      <td>0.215</td>\n      <td>0.192</td>\n    </tr>\n    <tr>\n      <th>R&amp;D Expenses</th>\n      <td>16217000000.0</td>\n      <td>14236000000.0</td>\n      <td>11581000000.0</td>\n      <td>10045000000.0</td>\n      <td>8067000000.0</td>\n      <td>6041000000.0</td>\n      <td>4475000000.0</td>\n      <td>3381000000.0</td>\n      <td>2429000000.0</td>\n      <td>1782000000.0</td>\n      <td>1333000000.0</td>\n    </tr>\n    <tr>\n      <th>Revenue</th>\n      <td>260174000000.0</td>\n      <td>265595000000.0</td>\n      <td>229234000000.0</td>\n      <td>215639000000.0</td>\n      <td>233715000000.0</td>\n      <td>182795000000.0</td>\n      <td>170910000000.0</td>\n      <td>156508000000.0</td>\n      <td>108249000000.0</td>\n      <td>65225000000.0</td>\n      <td>42905000000.0</td>\n    </tr>\n    <tr>\n      <th>Revenue Growth</th>\n      <td>-0.0204</td>\n      <td>0.1586</td>\n      <td>0.063</td>\n      <td>-0.0773</td>\n      <td>0.2786</td>\n      <td>0.0695</td>\n      <td>0.092</td>\n      <td>0.4458</td>\n      <td>0.6596</td>\n      <td>0.5202</td>\n      <td>0.1444</td>\n    </tr>\n    <tr>\n      <th>SG&amp;A Expense</th>\n      <td>18245000000.0</td>\n      <td>16705000000.0</td>\n      <td>15261000000.0</td>\n      <td>14194000000.0</td>\n      <td>14329000000.0</td>\n      <td>11993000000.0</td>\n      <td>10830000000.0</td>\n      <td>10040000000.0</td>\n      <td>7599000000.0</td>\n      <td>5517000000.0</td>\n      <td>4149000000.0</td>\n    </tr>\n    <tr>\n      <th>Weighted Average Shs Out</th>\n      <td>4519180000.0</td>\n      <td>4829926000.0</td>\n      <td>5165228000.0</td>\n      <td>5388443000.0</td>\n      <td>5702722000.0</td>\n      <td>5987867000.0</td>\n      <td>6359479000.0</td>\n      <td>6561842000.0</td>\n      <td>6489636202.0</td>\n      <td>6394940160.0</td>\n      <td>6270717306.0</td>\n    </tr>\n    <tr>\n      <th>Weighted Average Shs Out (Dil)</th>\n      <td>4617834000.0</td>\n      <td>4955377000.0</td>\n      <td>5217242000.0</td>\n      <td>5470820000.0</td>\n      <td>5753421000.0</td>\n      <td>6085572000.0</td>\n      <td>6477320000.0</td>\n      <td>6543726000.0</td>\n      <td>6469806000.0</td>\n      <td>6366227000.0</td>\n      <td>6251112000.0</td>\n    </tr>\n    <tr>\n      <th>date</th>\n      <td>2019-09-28</td>\n      <td>2018-09-29</td>\n      <td>2017-09-30</td>\n      <td>2016-09-24</td>\n      <td>2015-09-26</td>\n      <td>2014-09-27</td>\n      <td>2013-09-28</td>\n      <td>2012-09-29</td>\n      <td>2011-09-24</td>\n      <td>2010-09-25</td>\n      <td>2009-09-26</td>\n    </tr>\n  </tbody>\n</table>\n</div>",
      "text/plain": "                                              0               1   \\\nConsolidated Income                55256000000.0   59531000000.0   \nCost of Revenue                   161782000000.0  163756000000.0   \nDividend per Share                           3.0            2.72   \nEBIT                               65737000000.0   72903000000.0   \nEBIT Margin                               0.2527          0.2745   \nEBITDA                             78284000000.0   83806000000.0   \nEBITDA Margin                              0.301           0.316   \nEPS                                        11.97           12.01   \nEPS Diluted                                11.89           11.91   \nEarnings Before Tax Margin                0.2527          0.2745   \nEarnings before Tax                65737000000.0   72903000000.0   \nFree Cash Flow margin                     0.2264          0.2414   \nGross Margin                              0.3782          0.3834   \nGross Profit                       98392000000.0  101839000000.0   \nIncome Tax Expense                 10481000000.0   13372000000.0   \nInterest Expense                             0.0             0.0   \nNet Income                         55256000000.0   59531000000.0   \nNet Income - Discontinued ops                0.0             0.0   \nNet Income - Non-Controlling int             0.0             0.0   \nNet Income Com                     55256000000.0   59531000000.0   \nNet Profit Margin                         0.2124          0.2241   \nOperating Expenses                 34462000000.0   30941000000.0   \nOperating Income                   63930000000.0   70898000000.0   \nPreferred Dividends                          0.0             0.0   \nProfit Margin                              0.212           0.224   \nR&D Expenses                       16217000000.0   14236000000.0   \nRevenue                           260174000000.0  265595000000.0   \nRevenue Growth                           -0.0204          0.1586   \nSG&A Expense                       18245000000.0   16705000000.0   \nWeighted Average Shs Out            4519180000.0    4829926000.0   \nWeighted Average Shs Out (Dil)      4617834000.0    4955377000.0   \ndate                                  2019-09-28      2018-09-29   \n\n                                              2               3   \\\nConsolidated Income                48351000000.0   45687000000.0   \nCost of Revenue                   141048000000.0  131376000000.0   \nDividend per Share                           2.4            2.18   \nEBIT                               64089000000.0   61372000000.0   \nEBIT Margin                               0.2796          0.2846   \nEBITDA                             74246000000.0   71877000000.0   \nEBITDA Margin                              0.324           0.333   \nEPS                                         9.27            8.35   \nEPS Diluted                                 9.21            8.31   \nEarnings Before Tax Margin                0.2796          0.2846   \nEarnings before Tax                64089000000.0   61372000000.0   \nFree Cash Flow margin                     0.2259          0.2481   \nGross Margin                              0.3847          0.3908   \nGross Profit                       88186000000.0   84263000000.0   \nIncome Tax Expense                 15738000000.0   15685000000.0   \nInterest Expense                             0.0             0.0   \nNet Income                         48351000000.0   45687000000.0   \nNet Income - Discontinued ops                0.0             0.0   \nNet Income - Non-Controlling int             0.0             0.0   \nNet Income Com                     48351000000.0   45687000000.0   \nNet Profit Margin                         0.2109          0.2119   \nOperating Expenses                 26842000000.0   24239000000.0   \nOperating Income                   61344000000.0   60024000000.0   \nPreferred Dividends                          0.0             0.0   \nProfit Margin                              0.211           0.212   \nR&D Expenses                       11581000000.0   10045000000.0   \nRevenue                           229234000000.0  215639000000.0   \nRevenue Growth                             0.063         -0.0773   \nSG&A Expense                       15261000000.0   14194000000.0   \nWeighted Average Shs Out            5165228000.0    5388443000.0   \nWeighted Average Shs Out (Dil)      5217242000.0    5470820000.0   \ndate                                  2017-09-30      2016-09-24   \n\n                                              4               5   \\\nConsolidated Income                53394000000.0   39510000000.0   \nCost of Revenue                   140089000000.0  112258000000.0   \nDividend per Share                          1.98           1.811   \nEBIT                               72515000000.0   53483000000.0   \nEBIT Margin                               0.3103          0.2926   \nEBITDA                             83772000000.0   61429000000.0   \nEBITDA Margin                              0.358           0.336   \nEPS                                         9.28            6.49   \nEPS Diluted                                 9.22            6.45   \nEarnings Before Tax Margin                0.3103          0.2926   \nEarnings before Tax                72515000000.0   53483000000.0   \nFree Cash Flow margin                     0.2986           0.273   \nGross Margin                              0.4006          0.3859   \nGross Profit                       93626000000.0   70537000000.0   \nIncome Tax Expense                 19121000000.0   13973000000.0   \nInterest Expense                             0.0             0.0   \nNet Income                         53394000000.0   39510000000.0   \nNet Income - Discontinued ops                0.0             0.0   \nNet Income - Non-Controlling int             0.0             0.0   \nNet Income Com                     53394000000.0   39510000000.0   \nNet Profit Margin                         0.2285          0.2161   \nOperating Expenses                 22396000000.0   18034000000.0   \nOperating Income                   71230000000.0   52503000000.0   \nPreferred Dividends                          0.0             0.0   \nProfit Margin                              0.228           0.216   \nR&D Expenses                        8067000000.0    6041000000.0   \nRevenue                           233715000000.0  182795000000.0   \nRevenue Growth                            0.2786          0.0695   \nSG&A Expense                       14329000000.0   11993000000.0   \nWeighted Average Shs Out            5702722000.0    5987867000.0   \nWeighted Average Shs Out (Dil)      5753421000.0    6085572000.0   \ndate                                  2015-09-26      2014-09-27   \n\n                                              6               7   \\\nConsolidated Income                37037000000.0   41733000000.0   \nCost of Revenue                   106606000000.0   87846000000.0   \nDividend per Share                         1.629           0.379   \nEBIT                               50155000000.0   55763000000.0   \nEBIT Margin                               0.2935          0.3563   \nEBITDA                             56912000000.0   59040000000.0   \nEBITDA Margin                              0.333           0.377   \nEPS                                         5.72            6.38   \nEPS Diluted                                 5.68            6.31   \nEarnings Before Tax Margin                0.2935          0.3563   \nEarnings before Tax                50155000000.0   55763000000.0   \nFree Cash Flow margin                     0.2609          0.2649   \nGross Margin                              0.3762          0.4387   \nGross Profit                       64304000000.0   68662000000.0   \nIncome Tax Expense                 13118000000.0   14030000000.0   \nInterest Expense                             0.0             0.0   \nNet Income                         37037000000.0   41733000000.0   \nNet Income - Discontinued ops                0.0             0.0   \nNet Income - Non-Controlling int             0.0             0.0   \nNet Income Com                     37037000000.0   41733000000.0   \nNet Profit Margin                         0.2167          0.2667   \nOperating Expenses                 15305000000.0   13421000000.0   \nOperating Income                   48999000000.0   55241000000.0   \nPreferred Dividends                          0.0             0.0   \nProfit Margin                              0.217           0.267   \nR&D Expenses                        4475000000.0    3381000000.0   \nRevenue                           170910000000.0  156508000000.0   \nRevenue Growth                             0.092          0.4458   \nSG&A Expense                       10830000000.0   10040000000.0   \nWeighted Average Shs Out            6359479000.0    6561842000.0   \nWeighted Average Shs Out (Dil)      6477320000.0    6543726000.0   \ndate                                  2013-09-28      2012-09-29   \n\n                                              8              9              10  \nConsolidated Income                25922000000.0  14013000000.0   8235000000.0  \nCost of Revenue                    64431000000.0  39541000000.0  25683000000.0  \nDividend per Share                           0.0            0.0            0.0  \nEBIT                               34205000000.0  18540000000.0  12066000000.0  \nEBIT Margin                                0.316         0.2842         0.2812  \nEBITDA                             36019000000.0  19567000000.0  12800000000.0  \nEBITDA Margin                              0.333            0.3          0.298  \nEPS                                        4.007          2.201          1.317  \nEPS Diluted                                3.954          2.164          1.297  \nEarnings Before Tax Margin                 0.316         0.2842         0.2812  \nEarnings before Tax                34205000000.0  18540000000.0  12066000000.0  \nFree Cash Flow margin                     0.2779         0.2526         0.2085  \nGross Margin                              0.4048         0.3938         0.4014  \nGross Profit                       43818000000.0  25684000000.0  17222000000.0  \nIncome Tax Expense                  8283000000.0   4527000000.0   3831000000.0  \nInterest Expense                             0.0            0.0            0.0  \nNet Income                         25922000000.0  14013000000.0   8235000000.0  \nNet Income - Discontinued ops                0.0            0.0            0.0  \nNet Income - Non-Controlling int             0.0            0.0            0.0  \nNet Income Com                     25922000000.0  14013000000.0   8235000000.0  \nNet Profit Margin                         0.2395         0.2148         0.1919  \nOperating Expenses                 10028000000.0   7299000000.0   5482000000.0  \nOperating Income                   33790000000.0  18385000000.0  11740000000.0  \nPreferred Dividends                          0.0            0.0            0.0  \nProfit Margin                              0.239          0.215          0.192  \nR&D Expenses                        2429000000.0   1782000000.0   1333000000.0  \nRevenue                           108249000000.0  65225000000.0  42905000000.0  \nRevenue Growth                            0.6596         0.5202         0.1444  \nSG&A Expense                        7599000000.0   5517000000.0   4149000000.0  \nWeighted Average Shs Out            6489636202.0   6394940160.0   6270717306.0  \nWeighted Average Shs Out (Dil)      6469806000.0   6366227000.0   6251112000.0  \ndate                                  2011-09-24     2010-09-25     2009-09-26  "
     },
     "execution_count": 29,
     "metadata": {},
     "output_type": "execute_result"
    }
   ],
   "source": [
    "income_statement"
   ]
  }
 ]
}